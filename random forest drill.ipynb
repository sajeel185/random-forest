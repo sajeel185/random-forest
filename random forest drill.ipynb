{
 "cells": [
  {
   "cell_type": "code",
   "execution_count": 155,
   "metadata": {},
   "outputs": [],
   "source": [
    "import pandas as pd\n",
    "import numpy as np\n",
    "import matplotlib.pyplot as plt\n",
    "%matplotlib inline\n",
    "\n",
    "\n",
    "from sklearn import ensemble\n",
    "from sklearn.model_selection import cross_val_score\n",
    "\n"
   ]
  },
  {
   "cell_type": "code",
   "execution_count": 156,
   "metadata": {},
   "outputs": [
    {
     "name": "stderr",
     "output_type": "stream",
     "text": [
      "C:\\Users\\PV-R68G\\Anaconda3\\lib\\site-packages\\IPython\\core\\interactiveshell.py:2785: DtypeWarning: Columns (0,19,55) have mixed types. Specify dtype option on import or set low_memory=False.\n",
      "  interactivity=interactivity, compiler=compiler, result=result)\n"
     ]
    }
   ],
   "source": [
    "df = pd.read_csv(\"lending club data.csv\", skipinitialspace=True,\n",
    "    header=1)\n",
    "#print(df.head())"
   ]
  },
  {
   "cell_type": "code",
   "execution_count": 157,
   "metadata": {},
   "outputs": [],
   "source": [
    "categorical = df.select_dtypes(include=['object'])\n",
    "for i in categorical:\n",
    "    column = categorical[i]\n",
    "#    print(i)\n",
    "#    print(column.nunique())"
   ]
  },
  {
   "cell_type": "code",
   "execution_count": 158,
   "metadata": {},
   "outputs": [
    {
     "name": "stdout",
     "output_type": "stream",
     "text": [
      "   id  member_id  loan_amnt  funded_amnt  funded_amnt_inv       term  \\\n",
      "0 NaN        NaN    24700.0      24700.0          24700.0  36 months   \n",
      "1 NaN        NaN    17925.0      17925.0          17925.0  60 months   \n",
      "2 NaN        NaN     9000.0       9000.0           9000.0  36 months   \n",
      "3 NaN        NaN    11550.0      11550.0          11550.0  60 months   \n",
      "4 NaN        NaN    12000.0      12000.0          12000.0  60 months   \n",
      "\n",
      "   int_rate  installment grade emp_length       ...         \\\n",
      "0     11.99       820.28     C  10+ years       ...          \n",
      "1     17.27       448.09     D  10+ years       ...          \n",
      "2      8.49       284.07     B    8 years       ...          \n",
      "3     16.59       284.51     D    5 years       ...          \n",
      "4      9.80       253.79     B  10+ years       ...          \n",
      "\n",
      "  hardship_payoff_balance_amount  hardship_last_payment_amount  \\\n",
      "0                            NaN                           NaN   \n",
      "1                            NaN                           NaN   \n",
      "2                            NaN                           NaN   \n",
      "3                            NaN                           NaN   \n",
      "4                            NaN                           NaN   \n",
      "\n",
      "  disbursement_method debt_settlement_flag debt_settlement_flag_date  \\\n",
      "0                Cash                    N                       NaN   \n",
      "1                Cash                    N                       NaN   \n",
      "2                Cash                    N                       NaN   \n",
      "3                Cash                    N                       NaN   \n",
      "4                Cash                    N                       NaN   \n",
      "\n",
      "  settlement_status settlement_date settlement_amount  settlement_percentage  \\\n",
      "0               NaN             NaN               NaN                    NaN   \n",
      "1               NaN             NaN               NaN                    NaN   \n",
      "2               NaN             NaN               NaN                    NaN   \n",
      "3               NaN             NaN               NaN                    NaN   \n",
      "4               NaN             NaN               NaN                    NaN   \n",
      "\n",
      "   settlement_term  \n",
      "0              NaN  \n",
      "1              NaN  \n",
      "2              NaN  \n",
      "3              NaN  \n",
      "4              NaN  \n",
      "\n",
      "[5 rows x 137 columns]\n"
     ]
    }
   ],
   "source": [
    "# Convert ID and Interest Rate to numeric.\n",
    "df['id'] = pd.to_numeric(df['id'], errors='coerce')\n",
    "df['int_rate'] = pd.to_numeric(df['int_rate'].str.strip('%'), errors='coerce')\n",
    "\n",
    "# Drop other columns with many unique variables\n",
    "df.drop(['url', 'emp_title', 'zip_code', 'earliest_cr_line', 'revol_util',\n",
    "            'sub_grade', 'addr_state', 'desc'], 1, inplace=True)\n",
    "\n",
    "# Remove two summary rows at the end that don't actually contain data.\n",
    "df = df[:-2]\n",
    "\n",
    "\n",
    "\n",
    "print(df.head())"
   ]
  },
  {
   "cell_type": "code",
   "execution_count": 159,
   "metadata": {},
   "outputs": [
    {
     "name": "stdout",
     "output_type": "stream",
     "text": [
      "(421097, 380)\n"
     ]
    }
   ],
   "source": [
    "\n",
    "X = df.drop('loan_status', 1)\n",
    "Y = df['loan_status'].astype(str)\n",
    "X = pd.get_dummies(X)\n",
    "X = X.dropna(axis=1)\n",
    "print(X.shape)"
   ]
  },
  {
   "cell_type": "code",
   "execution_count": 160,
   "metadata": {},
   "outputs": [
    {
     "name": "stderr",
     "output_type": "stream",
     "text": [
      "C:\\Users\\PV-R68G\\Anaconda3\\lib\\site-packages\\sklearn\\model_selection\\_split.py:605: Warning: The least populated class in y has only 2 members, which is too few. The minimum number of members in any class cannot be less than n_splits=10.\n",
      "  % (min_groups, self.n_splits)), Warning)\n"
     ]
    },
    {
     "name": "stdout",
     "output_type": "stream",
     "text": [
      "[0.88678349 0.89540047 0.90054855 0.8825485  0.89930894 0.90199012\n",
      " 0.89847535 0.89612425 0.89978151 0.90443394]\n"
     ]
    }
   ],
   "source": [
    "rfc = ensemble.RandomForestClassifier()\n",
    "print(cross_val_score(rfc, X, Y, cv=10))"
   ]
  },
  {
   "cell_type": "code",
   "execution_count": 161,
   "metadata": {},
   "outputs": [
    {
     "name": "stderr",
     "output_type": "stream",
     "text": [
      "C:\\Users\\PV-R68G\\Anaconda3\\lib\\site-packages\\IPython\\core\\interactiveshell.py:2785: DtypeWarning: Columns (0,19,55) have mixed types. Specify dtype option on import or set low_memory=False.\n",
      "  interactivity=interactivity, compiler=compiler, result=result)\n"
     ]
    }
   ],
   "source": [
    "#creating another dataframe\n",
    "df2 = pd.read_csv(\"lending club data.csv\", skipinitialspace=True,\n",
    "    header=1)\n"
   ]
  },
  {
   "cell_type": "markdown",
   "metadata": {},
   "source": [
    "## Taking out additional columns:"
   ]
  },
  {
   "cell_type": "code",
   "execution_count": 162,
   "metadata": {},
   "outputs": [],
   "source": [
    "df2['int_rate'] = pd.to_numeric(df2['int_rate'].str.strip('%'), errors='coerce')\n",
    "# Dropping additional columns\n",
    "df2.drop(['id', 'url', 'emp_title', 'zip_code', 'earliest_cr_line', 'revol_util',\n",
    "            'sub_grade', 'addr_state', 'desc', 'emp_title', 'issue_d', 'earliest_cr_line', \n",
    "         'inq_last_6mths', 'mths_since_last_delinq', 'mths_since_last_record', 'open_acc', 'pub_rec'], 1, inplace=True)\n",
    "\n",
    "# Remove two summary rows at the end that don't actually contain data.\n",
    "df2 = df2[:-2]"
   ]
  },
  {
   "cell_type": "code",
   "execution_count": 163,
   "metadata": {},
   "outputs": [
    {
     "name": "stdout",
     "output_type": "stream",
     "text": [
      "(421097, 368)\n"
     ]
    }
   ],
   "source": [
    "X2 = df2.drop('loan_status', 1)\n",
    "Y2 = df2['loan_status'].astype(str)\n",
    "X2 = pd.get_dummies(X2)\n",
    "X2 = X2.dropna(axis=1)\n",
    "print(X2.shape)"
   ]
  },
  {
   "cell_type": "code",
   "execution_count": 164,
   "metadata": {},
   "outputs": [
    {
     "name": "stderr",
     "output_type": "stream",
     "text": [
      "C:\\Users\\PV-R68G\\Anaconda3\\lib\\site-packages\\sklearn\\model_selection\\_split.py:605: Warning: The least populated class in y has only 2 members, which is too few. The minimum number of members in any class cannot be less than n_splits=10.\n",
      "  % (min_groups, self.n_splits)), Warning)\n"
     ]
    },
    {
     "name": "stdout",
     "output_type": "stream",
     "text": [
      "[0.89112884 0.89639779 0.8969153  0.89867256 0.89987889 0.89854659\n",
      " 0.90018524 0.90047022 0.8968842  0.89605054]\n"
     ]
    }
   ],
   "source": [
    "rfc2 = ensemble.RandomForestClassifier()\n",
    "print(cross_val_score(rfc2, X2, Y2, cv=10))"
   ]
  },
  {
   "cell_type": "code",
   "execution_count": 165,
   "metadata": {},
   "outputs": [
    {
     "name": "stderr",
     "output_type": "stream",
     "text": [
      "C:\\Users\\PV-R68G\\Anaconda3\\lib\\site-packages\\IPython\\core\\interactiveshell.py:2785: DtypeWarning: Columns (0,19,55) have mixed types. Specify dtype option on import or set low_memory=False.\n",
      "  interactivity=interactivity, compiler=compiler, result=result)\n"
     ]
    }
   ],
   "source": [
    "#creating another dataframe\n",
    "df3 = pd.read_csv(\"lending club data.csv\", skipinitialspace=True,\n",
    "    header=1)\n"
   ]
  },
  {
   "cell_type": "markdown",
   "metadata": {},
   "source": [
    "## Taking out columns related to payment amount or outstanding principle:"
   ]
  },
  {
   "cell_type": "code",
   "execution_count": 166,
   "metadata": {},
   "outputs": [],
   "source": [
    "df3['int_rate'] = pd.to_numeric(df3['int_rate'].str.strip('%'), errors='coerce')\n",
    "# Dropping additional columns\n",
    "df3.drop(['id', 'url', 'emp_title', 'zip_code', 'earliest_cr_line', 'revol_util',\n",
    "            'sub_grade', 'addr_state', 'desc', 'emp_title', 'funded_amnt', 'funded_amnt_inv',\n",
    "         'loan_amnt', 'revol_bal', 'total_pymnt'], 1, inplace=True)\n",
    "\n",
    "\n",
    "# Remove two summary rows at the end that don't actually contain data.\n",
    "df3 = df3[:-2]"
   ]
  },
  {
   "cell_type": "code",
   "execution_count": 167,
   "metadata": {},
   "outputs": [
    {
     "name": "stdout",
     "output_type": "stream",
     "text": [
      "(421097, 380)\n"
     ]
    }
   ],
   "source": [
    "X3 = df3.drop('loan_status', 1)\n",
    "Y3 = df3['loan_status'].astype(str)\n",
    "X3 = pd.get_dummies(X3)\n",
    "X3 = X3.dropna(axis=1)\n",
    "print(X3.shape)"
   ]
  },
  {
   "cell_type": "code",
   "execution_count": 168,
   "metadata": {},
   "outputs": [
    {
     "name": "stderr",
     "output_type": "stream",
     "text": [
      "C:\\Users\\PV-R68G\\Anaconda3\\lib\\site-packages\\sklearn\\model_selection\\_split.py:605: Warning: The least populated class in y has only 2 members, which is too few. The minimum number of members in any class cannot be less than n_splits=10.\n",
      "  % (min_groups, self.n_splits)), Warning)\n"
     ]
    },
    {
     "name": "stdout",
     "output_type": "stream",
     "text": [
      "[0.88436149 0.8963028  0.90009736 0.88140866 0.9008763  0.90013774\n",
      " 0.90028023 0.896148   0.90208511 0.90609637]\n"
     ]
    }
   ],
   "source": [
    "rfc3 = ensemble.RandomForestClassifier()\n",
    "print(cross_val_score(rfc3, X3, Y3, cv=10))"
   ]
  },
  {
   "cell_type": "markdown",
   "metadata": {},
   "source": [
    "## I experienced no significant change in accuracy after deleting certain columns; even after deleting certain columns related to payment amount or outstanding principle."
   ]
  }
 ],
 "metadata": {
  "kernelspec": {
   "display_name": "Python 3",
   "language": "python",
   "name": "python3"
  },
  "language_info": {
   "codemirror_mode": {
    "name": "ipython",
    "version": 3
   },
   "file_extension": ".py",
   "mimetype": "text/x-python",
   "name": "python",
   "nbconvert_exporter": "python",
   "pygments_lexer": "ipython3",
   "version": "3.7.0"
  }
 },
 "nbformat": 4,
 "nbformat_minor": 2
}
